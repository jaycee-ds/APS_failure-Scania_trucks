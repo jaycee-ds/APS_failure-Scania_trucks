{
 "cells": [
  {
   "cell_type": "code",
   "execution_count": 75,
   "metadata": {},
   "outputs": [],
   "source": [
    "import numpy as np\n",
    "import pandas as pd\n",
    "import matplotlib.pyplot as plt\n",
    "import seaborn as sns\n",
    "from imblearn.over_sampling import SMOTE\n",
    "from sklearn.svm import SVC\n",
    "from sklearn.neighbors import KNeighborsClassifier\n",
    "from sklearn.linear_model import LogisticRegression\n",
    "from sklearn.ensemble import RandomForestClassifier\n",
    "from sklearn.metrics import classification_report, confusion_matrix, accuracy_score\n",
    "from sklearn.model_selection import GridSearchCV\n",
    "from sklearn.inspection import permutation_importance\n",
    "from tqdm import tqdm\n",
    "import pickle"
   ]
  },
  {
   "cell_type": "code",
   "execution_count": 2,
   "metadata": {},
   "outputs": [],
   "source": [
    "def plot_confusion_matrix(confusion_matrix):\n",
    "    fig, ax = plt.subplots(figsize=(3, 3))\n",
    "    ax.matshow(confusion_matrix, cmap=plt.cm.Blues, alpha=0.5)\n",
    "    for i in range(confusion_matrix.shape[0]):\n",
    "        for j in range(confusion_matrix.shape[1]):\n",
    "            ax.text(x=j, y=i, s=confusion_matrix[i, j], va='center', ha='center')\n",
    "\n",
    "    plt.xlabel('predicted label')\n",
    "    plt.ylabel('true label')\n",
    "\n",
    "    plt.tight_layout()\n",
    "    plt.show()"
   ]
  },
  {
   "cell_type": "markdown",
   "metadata": {},
   "source": [
    "# Importing the data"
   ]
  },
  {
   "cell_type": "code",
   "execution_count": 3,
   "metadata": {},
   "outputs": [
    {
     "name": "stdout",
     "output_type": "stream",
     "text": [
      "APS Failure - Data Analysis.ipynb   aps_failure_description.txt\r\n",
      "APS Failure - Modelling.ipynb       aps_failure_test_set.csv\r\n",
      "Data Intake Report_APS Failure.docx aps_failure_training_set.csv\r\n",
      "Data Intake Report_APS Failure.pdf  test_standardized.csv\r\n",
      "Notes                               train_standardized.csv\r\n"
     ]
    }
   ],
   "source": [
    "! ls"
   ]
  },
  {
   "cell_type": "code",
   "execution_count": 4,
   "metadata": {},
   "outputs": [],
   "source": [
    "train = pd.read_csv('train_standardized.csv')\n",
    "test = pd.read_csv('test_standardized.csv')"
   ]
  },
  {
   "cell_type": "code",
   "execution_count": 5,
   "metadata": {},
   "outputs": [
    {
     "data": {
      "text/html": [
       "<div>\n",
       "<style scoped>\n",
       "    .dataframe tbody tr th:only-of-type {\n",
       "        vertical-align: middle;\n",
       "    }\n",
       "\n",
       "    .dataframe tbody tr th {\n",
       "        vertical-align: top;\n",
       "    }\n",
       "\n",
       "    .dataframe thead th {\n",
       "        text-align: right;\n",
       "    }\n",
       "</style>\n",
       "<table border=\"1\" class=\"dataframe\">\n",
       "  <thead>\n",
       "    <tr style=\"text-align: right;\">\n",
       "      <th></th>\n",
       "      <th>class</th>\n",
       "      <th>aa_000</th>\n",
       "      <th>ab_000</th>\n",
       "      <th>ac_000</th>\n",
       "      <th>ad_000</th>\n",
       "      <th>ae_000</th>\n",
       "      <th>af_000</th>\n",
       "      <th>ag_000</th>\n",
       "      <th>ag_001</th>\n",
       "      <th>ag_002</th>\n",
       "      <th>...</th>\n",
       "      <th>ee_002</th>\n",
       "      <th>ee_003</th>\n",
       "      <th>ee_004</th>\n",
       "      <th>ee_005</th>\n",
       "      <th>ee_006</th>\n",
       "      <th>ee_007</th>\n",
       "      <th>ee_008</th>\n",
       "      <th>ee_009</th>\n",
       "      <th>ef_000</th>\n",
       "      <th>eg_000</th>\n",
       "    </tr>\n",
       "  </thead>\n",
       "  <tbody>\n",
       "    <tr>\n",
       "      <th>0</th>\n",
       "      <td>0</td>\n",
       "      <td>0.119381</td>\n",
       "      <td>-6.685778e-17</td>\n",
       "      <td>2.297451</td>\n",
       "      <td>-5.431343e-03</td>\n",
       "      <td>-0.043121</td>\n",
       "      <td>-0.053594</td>\n",
       "      <td>-0.010884</td>\n",
       "      <td>-0.028691</td>\n",
       "      <td>-0.057574</td>\n",
       "      <td>...</td>\n",
       "      <td>0.691902</td>\n",
       "      <td>0.522440</td>\n",
       "      <td>0.236978</td>\n",
       "      <td>0.068038</td>\n",
       "      <td>0.005736</td>\n",
       "      <td>-0.109591</td>\n",
       "      <td>-0.146551</td>\n",
       "      <td>-0.177717</td>\n",
       "      <td>-0.021220</td>\n",
       "      <td>-0.024659</td>\n",
       "    </tr>\n",
       "    <tr>\n",
       "      <th>1</th>\n",
       "      <td>0</td>\n",
       "      <td>-0.180697</td>\n",
       "      <td>-6.685778e-17</td>\n",
       "      <td>-0.460883</td>\n",
       "      <td>8.304736e-19</td>\n",
       "      <td>-0.043121</td>\n",
       "      <td>-0.053594</td>\n",
       "      <td>-0.010884</td>\n",
       "      <td>-0.028691</td>\n",
       "      <td>-0.057574</td>\n",
       "      <td>...</td>\n",
       "      <td>-0.020965</td>\n",
       "      <td>-0.061196</td>\n",
       "      <td>-0.131205</td>\n",
       "      <td>-0.133241</td>\n",
       "      <td>-0.187559</td>\n",
       "      <td>-0.154294</td>\n",
       "      <td>-0.092070</td>\n",
       "      <td>-0.145940</td>\n",
       "      <td>-0.021220</td>\n",
       "      <td>-0.024659</td>\n",
       "    </tr>\n",
       "    <tr>\n",
       "      <th>2</th>\n",
       "      <td>0</td>\n",
       "      <td>-0.125811</td>\n",
       "      <td>-6.685778e-17</td>\n",
       "      <td>-0.460883</td>\n",
       "      <td>-5.436479e-03</td>\n",
       "      <td>-0.043121</td>\n",
       "      <td>-0.053594</td>\n",
       "      <td>-0.010884</td>\n",
       "      <td>-0.028691</td>\n",
       "      <td>-0.057574</td>\n",
       "      <td>...</td>\n",
       "      <td>-0.146305</td>\n",
       "      <td>-0.094980</td>\n",
       "      <td>-0.018715</td>\n",
       "      <td>0.014010</td>\n",
       "      <td>-0.011581</td>\n",
       "      <td>-0.109552</td>\n",
       "      <td>-0.097547</td>\n",
       "      <td>-0.166828</td>\n",
       "      <td>-0.021220</td>\n",
       "      <td>-0.024659</td>\n",
       "    </tr>\n",
       "    <tr>\n",
       "      <th>3</th>\n",
       "      <td>0</td>\n",
       "      <td>-0.407928</td>\n",
       "      <td>-4.294831e-01</td>\n",
       "      <td>-0.460883</td>\n",
       "      <td>-5.437449e-03</td>\n",
       "      <td>-0.043121</td>\n",
       "      <td>-0.004902</td>\n",
       "      <td>-0.010884</td>\n",
       "      <td>-0.028691</td>\n",
       "      <td>-0.057574</td>\n",
       "      <td>...</td>\n",
       "      <td>-0.387494</td>\n",
       "      <td>-0.390696</td>\n",
       "      <td>-0.383624</td>\n",
       "      <td>-0.353355</td>\n",
       "      <td>-0.313264</td>\n",
       "      <td>-0.201514</td>\n",
       "      <td>-0.310368</td>\n",
       "      <td>-0.177717</td>\n",
       "      <td>0.915878</td>\n",
       "      <td>3.684257</td>\n",
       "    </tr>\n",
       "    <tr>\n",
       "      <th>4</th>\n",
       "      <td>0</td>\n",
       "      <td>0.010572</td>\n",
       "      <td>-6.685778e-17</td>\n",
       "      <td>-0.460881</td>\n",
       "      <td>-5.426264e-03</td>\n",
       "      <td>-0.043121</td>\n",
       "      <td>-0.053594</td>\n",
       "      <td>-0.010884</td>\n",
       "      <td>-0.028691</td>\n",
       "      <td>-0.057574</td>\n",
       "      <td>...</td>\n",
       "      <td>0.153624</td>\n",
       "      <td>0.034545</td>\n",
       "      <td>-0.034806</td>\n",
       "      <td>-0.041945</td>\n",
       "      <td>-0.043365</td>\n",
       "      <td>-0.020200</td>\n",
       "      <td>0.660478</td>\n",
       "      <td>-0.151914</td>\n",
       "      <td>-0.021220</td>\n",
       "      <td>-0.024659</td>\n",
       "    </tr>\n",
       "  </tbody>\n",
       "</table>\n",
       "<p>5 rows × 171 columns</p>\n",
       "</div>"
      ],
      "text/plain": [
       "   class    aa_000        ab_000    ac_000        ad_000    ae_000    af_000  \\\n",
       "0      0  0.119381 -6.685778e-17  2.297451 -5.431343e-03 -0.043121 -0.053594   \n",
       "1      0 -0.180697 -6.685778e-17 -0.460883  8.304736e-19 -0.043121 -0.053594   \n",
       "2      0 -0.125811 -6.685778e-17 -0.460883 -5.436479e-03 -0.043121 -0.053594   \n",
       "3      0 -0.407928 -4.294831e-01 -0.460883 -5.437449e-03 -0.043121 -0.004902   \n",
       "4      0  0.010572 -6.685778e-17 -0.460881 -5.426264e-03 -0.043121 -0.053594   \n",
       "\n",
       "     ag_000    ag_001    ag_002  ...    ee_002    ee_003    ee_004    ee_005  \\\n",
       "0 -0.010884 -0.028691 -0.057574  ...  0.691902  0.522440  0.236978  0.068038   \n",
       "1 -0.010884 -0.028691 -0.057574  ... -0.020965 -0.061196 -0.131205 -0.133241   \n",
       "2 -0.010884 -0.028691 -0.057574  ... -0.146305 -0.094980 -0.018715  0.014010   \n",
       "3 -0.010884 -0.028691 -0.057574  ... -0.387494 -0.390696 -0.383624 -0.353355   \n",
       "4 -0.010884 -0.028691 -0.057574  ...  0.153624  0.034545 -0.034806 -0.041945   \n",
       "\n",
       "     ee_006    ee_007    ee_008    ee_009    ef_000    eg_000  \n",
       "0  0.005736 -0.109591 -0.146551 -0.177717 -0.021220 -0.024659  \n",
       "1 -0.187559 -0.154294 -0.092070 -0.145940 -0.021220 -0.024659  \n",
       "2 -0.011581 -0.109552 -0.097547 -0.166828 -0.021220 -0.024659  \n",
       "3 -0.313264 -0.201514 -0.310368 -0.177717  0.915878  3.684257  \n",
       "4 -0.043365 -0.020200  0.660478 -0.151914 -0.021220 -0.024659  \n",
       "\n",
       "[5 rows x 171 columns]"
      ]
     },
     "execution_count": 5,
     "metadata": {},
     "output_type": "execute_result"
    }
   ],
   "source": [
    "train.drop('Unnamed: 0', axis=1, inplace=True)\n",
    "train.head()"
   ]
  },
  {
   "cell_type": "code",
   "execution_count": 6,
   "metadata": {},
   "outputs": [
    {
     "name": "stdout",
     "output_type": "stream",
     "text": [
      "<class 'pandas.core.frame.DataFrame'>\n",
      "RangeIndex: 60000 entries, 0 to 59999\n",
      "Columns: 171 entries, class to eg_000\n",
      "dtypes: float64(170), int64(1)\n",
      "memory usage: 78.3 MB\n"
     ]
    }
   ],
   "source": [
    "train.info()"
   ]
  },
  {
   "cell_type": "code",
   "execution_count": 7,
   "metadata": {},
   "outputs": [
    {
     "data": {
      "text/html": [
       "<div>\n",
       "<style scoped>\n",
       "    .dataframe tbody tr th:only-of-type {\n",
       "        vertical-align: middle;\n",
       "    }\n",
       "\n",
       "    .dataframe tbody tr th {\n",
       "        vertical-align: top;\n",
       "    }\n",
       "\n",
       "    .dataframe thead th {\n",
       "        text-align: right;\n",
       "    }\n",
       "</style>\n",
       "<table border=\"1\" class=\"dataframe\">\n",
       "  <thead>\n",
       "    <tr style=\"text-align: right;\">\n",
       "      <th></th>\n",
       "      <th>class</th>\n",
       "      <th>aa_000</th>\n",
       "      <th>ab_000</th>\n",
       "      <th>ac_000</th>\n",
       "      <th>ad_000</th>\n",
       "      <th>ae_000</th>\n",
       "      <th>af_000</th>\n",
       "      <th>ag_000</th>\n",
       "      <th>ag_001</th>\n",
       "      <th>ag_002</th>\n",
       "      <th>...</th>\n",
       "      <th>ee_002</th>\n",
       "      <th>ee_003</th>\n",
       "      <th>ee_004</th>\n",
       "      <th>ee_005</th>\n",
       "      <th>ee_006</th>\n",
       "      <th>ee_007</th>\n",
       "      <th>ee_008</th>\n",
       "      <th>ee_009</th>\n",
       "      <th>ef_000</th>\n",
       "      <th>eg_000</th>\n",
       "    </tr>\n",
       "  </thead>\n",
       "  <tbody>\n",
       "    <tr>\n",
       "      <th>0</th>\n",
       "      <td>0</td>\n",
       "      <td>-0.134924</td>\n",
       "      <td>-0.625507</td>\n",
       "      <td>-0.463018</td>\n",
       "      <td>-0.317962</td>\n",
       "      <td>-0.055606</td>\n",
       "      <td>-0.062319</td>\n",
       "      <td>-0.018836</td>\n",
       "      <td>-0.023265</td>\n",
       "      <td>-0.058832</td>\n",
       "      <td>...</td>\n",
       "      <td>-0.371765</td>\n",
       "      <td>-0.381575</td>\n",
       "      <td>-0.372000</td>\n",
       "      <td>-0.339486</td>\n",
       "      <td>-0.298457</td>\n",
       "      <td>-0.217653</td>\n",
       "      <td>-0.270395</td>\n",
       "      <td>-0.161586</td>\n",
       "      <td>-0.019728</td>\n",
       "      <td>-0.017343</td>\n",
       "    </tr>\n",
       "    <tr>\n",
       "      <th>1</th>\n",
       "      <td>0</td>\n",
       "      <td>-0.134881</td>\n",
       "      <td>-0.625507</td>\n",
       "      <td>-0.463018</td>\n",
       "      <td>-0.297136</td>\n",
       "      <td>-0.055606</td>\n",
       "      <td>-0.062319</td>\n",
       "      <td>-0.018836</td>\n",
       "      <td>-0.023265</td>\n",
       "      <td>-0.058832</td>\n",
       "      <td>...</td>\n",
       "      <td>-0.371789</td>\n",
       "      <td>-0.381337</td>\n",
       "      <td>-0.371042</td>\n",
       "      <td>-0.339915</td>\n",
       "      <td>-0.298450</td>\n",
       "      <td>-0.217422</td>\n",
       "      <td>-0.270395</td>\n",
       "      <td>-0.161586</td>\n",
       "      <td>-0.019728</td>\n",
       "      <td>-0.017343</td>\n",
       "    </tr>\n",
       "    <tr>\n",
       "      <th>2</th>\n",
       "      <td>0</td>\n",
       "      <td>-0.003962</td>\n",
       "      <td>0.994841</td>\n",
       "      <td>-0.463018</td>\n",
       "      <td>-0.243585</td>\n",
       "      <td>-0.055606</td>\n",
       "      <td>-0.062319</td>\n",
       "      <td>-0.018836</td>\n",
       "      <td>-0.023265</td>\n",
       "      <td>-0.058832</td>\n",
       "      <td>...</td>\n",
       "      <td>0.024176</td>\n",
       "      <td>0.274737</td>\n",
       "      <td>-0.022982</td>\n",
       "      <td>-0.124697</td>\n",
       "      <td>0.804419</td>\n",
       "      <td>-0.122767</td>\n",
       "      <td>-0.269428</td>\n",
       "      <td>-0.161586</td>\n",
       "      <td>-0.019728</td>\n",
       "      <td>-0.017343</td>\n",
       "    </tr>\n",
       "    <tr>\n",
       "      <th>3</th>\n",
       "      <td>0</td>\n",
       "      <td>-0.016248</td>\n",
       "      <td>0.000000</td>\n",
       "      <td>-0.463017</td>\n",
       "      <td>0.369284</td>\n",
       "      <td>-0.055606</td>\n",
       "      <td>-0.062319</td>\n",
       "      <td>-0.018836</td>\n",
       "      <td>-0.023265</td>\n",
       "      <td>-0.058832</td>\n",
       "      <td>...</td>\n",
       "      <td>0.060842</td>\n",
       "      <td>0.038093</td>\n",
       "      <td>0.011282</td>\n",
       "      <td>0.047656</td>\n",
       "      <td>0.063283</td>\n",
       "      <td>-0.087927</td>\n",
       "      <td>0.257482</td>\n",
       "      <td>-0.100579</td>\n",
       "      <td>-0.019728</td>\n",
       "      <td>-0.017343</td>\n",
       "    </tr>\n",
       "    <tr>\n",
       "      <th>4</th>\n",
       "      <td>0</td>\n",
       "      <td>-0.131441</td>\n",
       "      <td>0.000000</td>\n",
       "      <td>-0.463018</td>\n",
       "      <td>-0.222759</td>\n",
       "      <td>-0.055606</td>\n",
       "      <td>-0.062319</td>\n",
       "      <td>-0.018836</td>\n",
       "      <td>-0.023265</td>\n",
       "      <td>-0.058832</td>\n",
       "      <td>...</td>\n",
       "      <td>-0.366517</td>\n",
       "      <td>-0.374661</td>\n",
       "      <td>-0.357671</td>\n",
       "      <td>-0.300244</td>\n",
       "      <td>-0.295858</td>\n",
       "      <td>-0.217410</td>\n",
       "      <td>-0.270252</td>\n",
       "      <td>-0.161586</td>\n",
       "      <td>-0.019728</td>\n",
       "      <td>-0.017343</td>\n",
       "    </tr>\n",
       "  </tbody>\n",
       "</table>\n",
       "<p>5 rows × 171 columns</p>\n",
       "</div>"
      ],
      "text/plain": [
       "   class    aa_000    ab_000    ac_000    ad_000    ae_000    af_000  \\\n",
       "0      0 -0.134924 -0.625507 -0.463018 -0.317962 -0.055606 -0.062319   \n",
       "1      0 -0.134881 -0.625507 -0.463018 -0.297136 -0.055606 -0.062319   \n",
       "2      0 -0.003962  0.994841 -0.463018 -0.243585 -0.055606 -0.062319   \n",
       "3      0 -0.016248  0.000000 -0.463017  0.369284 -0.055606 -0.062319   \n",
       "4      0 -0.131441  0.000000 -0.463018 -0.222759 -0.055606 -0.062319   \n",
       "\n",
       "     ag_000    ag_001    ag_002  ...    ee_002    ee_003    ee_004    ee_005  \\\n",
       "0 -0.018836 -0.023265 -0.058832  ... -0.371765 -0.381575 -0.372000 -0.339486   \n",
       "1 -0.018836 -0.023265 -0.058832  ... -0.371789 -0.381337 -0.371042 -0.339915   \n",
       "2 -0.018836 -0.023265 -0.058832  ...  0.024176  0.274737 -0.022982 -0.124697   \n",
       "3 -0.018836 -0.023265 -0.058832  ...  0.060842  0.038093  0.011282  0.047656   \n",
       "4 -0.018836 -0.023265 -0.058832  ... -0.366517 -0.374661 -0.357671 -0.300244   \n",
       "\n",
       "     ee_006    ee_007    ee_008    ee_009    ef_000    eg_000  \n",
       "0 -0.298457 -0.217653 -0.270395 -0.161586 -0.019728 -0.017343  \n",
       "1 -0.298450 -0.217422 -0.270395 -0.161586 -0.019728 -0.017343  \n",
       "2  0.804419 -0.122767 -0.269428 -0.161586 -0.019728 -0.017343  \n",
       "3  0.063283 -0.087927  0.257482 -0.100579 -0.019728 -0.017343  \n",
       "4 -0.295858 -0.217410 -0.270252 -0.161586 -0.019728 -0.017343  \n",
       "\n",
       "[5 rows x 171 columns]"
      ]
     },
     "execution_count": 7,
     "metadata": {},
     "output_type": "execute_result"
    }
   ],
   "source": [
    "test.drop('Unnamed: 0', axis=1, inplace=True)\n",
    "test.head()"
   ]
  },
  {
   "cell_type": "code",
   "execution_count": 8,
   "metadata": {},
   "outputs": [
    {
     "name": "stdout",
     "output_type": "stream",
     "text": [
      "<class 'pandas.core.frame.DataFrame'>\n",
      "RangeIndex: 16000 entries, 0 to 15999\n",
      "Columns: 171 entries, class to eg_000\n",
      "dtypes: float64(170), int64(1)\n",
      "memory usage: 20.9 MB\n"
     ]
    }
   ],
   "source": [
    "test.info()"
   ]
  },
  {
   "cell_type": "markdown",
   "metadata": {},
   "source": [
    "# Imbalanced dataset"
   ]
  },
  {
   "cell_type": "code",
   "execution_count": 9,
   "metadata": {},
   "outputs": [
    {
     "data": {
      "image/png": "[encoded data removed]",
      "text/plain": [
       "<Figure size 432x288 with 1 Axes>"
      ]
     },
     "metadata": {
      "needs_background": "light"
     },
     "output_type": "display_data"
    }
   ],
   "source": [
    "sns.histplot(train, x='class', discrete=True)\n",
    "plt.title('Target variable distribution')\n",
    "plt.show()"
   ]
  },
  {
   "cell_type": "code",
   "execution_count": 10,
   "metadata": {},
   "outputs": [],
   "source": [
    "# Loading variables with target and features\n",
    "y_train = train['class']\n",
    "X_train = train.drop('class', axis=1)\n",
    "\n",
    "y_test = test['class']\n",
    "X_test = test.drop('class', axis=1)"
   ]
  },
  {
   "cell_type": "markdown",
   "metadata": {},
   "source": [
    "## Resampling the dataset"
   ]
  },
  {
   "cell_type": "code",
   "execution_count": 11,
   "metadata": {},
   "outputs": [],
   "source": [
    "smote = SMOTE(random_state=42)\n",
    "X_train_res, y_train_res = smote.fit_resample(X_train, y_train)"
   ]
  },
  {
   "cell_type": "code",
   "execution_count": 12,
   "metadata": {},
   "outputs": [
    {
     "data": {
      "text/plain": [
       "1    59000\n",
       "0    59000\n",
       "Name: class, dtype: int64"
      ]
     },
     "execution_count": 12,
     "metadata": {},
     "output_type": "execute_result"
    }
   ],
   "source": [
    "y_train_res.value_counts()"
   ]
  },
  {
   "cell_type": "code",
   "execution_count": 13,
   "metadata": {},
   "outputs": [
    {
     "data": {
      "text/plain": [
       "0    59000\n",
       "1     1000\n",
       "Name: class, dtype: int64"
      ]
     },
     "execution_count": 13,
     "metadata": {},
     "output_type": "execute_result"
    }
   ],
   "source": [
    "y_train.value_counts()"
   ]
  },
  {
   "cell_type": "markdown",
   "metadata": {},
   "source": [
    "# Modelling"
   ]
  },
  {
   "cell_type": "markdown",
   "metadata": {},
   "source": [
    "The following algorithms will be applied on the data:\n",
    "\n",
    "- SVM\n",
    "- k-Nearest Neighbours\n",
    "- Logistic Regression\n",
    "- Random Forest"
   ]
  },
  {
   "cell_type": "markdown",
   "metadata": {},
   "source": [
    "## Support Vector Classifier"
   ]
  },
  {
   "cell_type": "code",
   "execution_count": 14,
   "metadata": {},
   "outputs": [
    {
     "name": "stdout",
     "output_type": "stream",
     "text": [
      "5min 23s ± 0 ns per loop (mean ± std. dev. of 1 run, 1 loop each)\n"
     ]
    }
   ],
   "source": [
    "svc = SVC(random_state=123)\n",
    "%timeit -n1 -r1 svc.fit(X_train_res, y_train_res)"
   ]
  },
  {
   "cell_type": "code",
   "execution_count": 15,
   "metadata": {},
   "outputs": [],
   "source": [
    "predictions_svc = svc.predict(X_test)"
   ]
  },
  {
   "cell_type": "code",
   "execution_count": 16,
   "metadata": {},
   "outputs": [
    {
     "data": {
      "image/png": "[encoded data removed]",
      "text/plain": [
       "<Figure size 216x216 with 1 Axes>"
      ]
     },
     "metadata": {
      "needs_background": "light"
     },
     "output_type": "display_data"
    },
    {
     "name": "stdout",
     "output_type": "stream",
     "text": [
      "=====================\n",
      "              precision    recall  f1-score   support\n",
      "\n",
      "           0       1.00      0.99      0.99     15625\n",
      "           1       0.68      0.80      0.73       375\n",
      "\n",
      "    accuracy                           0.99     16000\n",
      "   macro avg       0.84      0.90      0.86     16000\n",
      "weighted avg       0.99      0.99      0.99     16000\n",
      "\n",
      "=====================\n",
      "Accuracy upon the test data using SVC is 98.63 %\n"
     ]
    }
   ],
   "source": [
    "cnfmtx_1 = confusion_matrix(y_test, predictions_svc)\n",
    "plot_confusion_matrix(cnfmtx_1)\n",
    "print(\"=====================\")\n",
    "print(classification_report(y_test, predictions_svc))\n",
    "accuracy_1 = accuracy_score(y_test, predictions_svc)\n",
    "print(\"=====================\")\n",
    "print(f'Accuracy upon the test data using SVC is {100*accuracy_1:.2f} %')"
   ]
  },
  {
   "cell_type": "markdown",
   "metadata": {},
   "source": [
    "## k-Nearest Neighbors"
   ]
  },
  {
   "cell_type": "code",
   "execution_count": 17,
   "metadata": {},
   "outputs": [
    {
     "name": "stdout",
     "output_type": "stream",
     "text": [
      "8.49 s ± 0 ns per loop (mean ± std. dev. of 1 run, 1 loop each)\n"
     ]
    }
   ],
   "source": [
    "knn = KNeighborsClassifier()\n",
    "%timeit -n1 -r1 knn.fit(X_train_res, y_train_res)"
   ]
  },
  {
   "cell_type": "code",
   "execution_count": 18,
   "metadata": {},
   "outputs": [],
   "source": [
    "predictions_knn = knn.predict(X_test)"
   ]
  },
  {
   "cell_type": "code",
   "execution_count": 19,
   "metadata": {},
   "outputs": [
    {
     "data": {
      "image/png": "[encoded data removed]",
      "text/plain": [
       "<Figure size 216x216 with 1 Axes>"
      ]
     },
     "metadata": {
      "needs_background": "light"
     },
     "output_type": "display_data"
    },
    {
     "name": "stdout",
     "output_type": "stream",
     "text": [
      "=====================\n",
      "              precision    recall  f1-score   support\n",
      "\n",
      "           0       1.00      0.98      0.99     15625\n",
      "           1       0.54      0.87      0.67       375\n",
      "\n",
      "    accuracy                           0.98     16000\n",
      "   macro avg       0.77      0.93      0.83     16000\n",
      "weighted avg       0.99      0.98      0.98     16000\n",
      "\n",
      "=====================\n",
      "Accuracy upon the test data using kNN is 97.98 %\n"
     ]
    }
   ],
   "source": [
    "cnfmtx_2 = confusion_matrix(y_test, predictions_knn)\n",
    "plot_confusion_matrix(cnfmtx_2)\n",
    "print(\"=====================\")\n",
    "print(classification_report(y_test, predictions_knn))\n",
    "accuracy_2 = accuracy_score(y_test, predictions_knn)\n",
    "print(\"=====================\")\n",
    "print(f'Accuracy upon the test data using kNN is {100*accuracy_2:.2f} %')"
   ]
  },
  {
   "cell_type": "markdown",
   "metadata": {},
   "source": [
    "## Logistic Regression"
   ]
  },
  {
   "cell_type": "code",
   "execution_count": 20,
   "metadata": {},
   "outputs": [
    {
     "name": "stdout",
     "output_type": "stream",
     "text": [
      "1.29 s ± 0 ns per loop (mean ± std. dev. of 1 run, 1 loop each)\n"
     ]
    },
    {
     "name": "stderr",
     "output_type": "stream",
     "text": [
      "/Users/juancarlos/opt/anaconda3/lib/python3.8/site-packages/sklearn/linear_model/_logistic.py:762: ConvergenceWarning: lbfgs failed to converge (status=1):\n",
      "STOP: TOTAL NO. of ITERATIONS REACHED LIMIT.\n",
      "\n",
      "Increase the number of iterations (max_iter) or scale the data as shown in:\n",
      "    https://scikit-learn.org/stable/modules/preprocessing.html\n",
      "Please also refer to the documentation for alternative solver options:\n",
      "    https://scikit-learn.org/stable/modules/linear_model.html#logistic-regression\n",
      "  n_iter_i = _check_optimize_result(\n"
     ]
    }
   ],
   "source": [
    "logreg = LogisticRegression()\n",
    "%timeit -n1 -r1 logreg.fit(X_train_res, y_train_res)"
   ]
  },
  {
   "cell_type": "code",
   "execution_count": 21,
   "metadata": {},
   "outputs": [],
   "source": [
    "predictions_logreg = logreg.predict(X_test)"
   ]
  },
  {
   "cell_type": "code",
   "execution_count": 22,
   "metadata": {},
   "outputs": [
    {
     "data": {
      "image/png": "[encoded data removed]",
      "text/plain": [
       "<Figure size 216x216 with 1 Axes>"
      ]
     },
     "metadata": {
      "needs_background": "light"
     },
     "output_type": "display_data"
    },
    {
     "name": "stdout",
     "output_type": "stream",
     "text": [
      "=====================\n",
      "              precision    recall  f1-score   support\n",
      "\n",
      "           0       1.00      0.98      0.99     15625\n",
      "           1       0.53      0.85      0.65       375\n",
      "\n",
      "    accuracy                           0.98     16000\n",
      "   macro avg       0.76      0.91      0.82     16000\n",
      "weighted avg       0.99      0.98      0.98     16000\n",
      "\n",
      "=====================\n",
      "Accuracy upon the test data using Logistic Regression is 97.91 %\n"
     ]
    }
   ],
   "source": [
    "cnfmtx_3 = confusion_matrix(y_test, predictions_logreg)\n",
    "plot_confusion_matrix(cnfmtx_3)\n",
    "print(\"=====================\")\n",
    "print(classification_report(y_test, predictions_logreg))\n",
    "accuracy_3 = accuracy_score(y_test, predictions_logreg)\n",
    "print(\"=====================\")\n",
    "print(f'Accuracy upon the test data using Logistic Regression is {100*accuracy_3:.2f} %')"
   ]
  },
  {
   "cell_type": "markdown",
   "metadata": {},
   "source": [
    "## Random Forest Classifier"
   ]
  },
  {
   "cell_type": "code",
   "execution_count": 23,
   "metadata": {},
   "outputs": [
    {
     "name": "stdout",
     "output_type": "stream",
     "text": [
      "2min 13s ± 0 ns per loop (mean ± std. dev. of 1 run, 1 loop each)\n"
     ]
    }
   ],
   "source": [
    "rf = RandomForestClassifier()\n",
    "%timeit -n1 -r1 rf.fit(X_train_res, y_train_res)"
   ]
  },
  {
   "cell_type": "code",
   "execution_count": 24,
   "metadata": {},
   "outputs": [],
   "source": [
    "predictions_rf = rf.predict(X_test)"
   ]
  },
  {
   "cell_type": "code",
   "execution_count": 25,
   "metadata": {},
   "outputs": [
    {
     "data": {
      "image/png": "[encoded data removed]",
      "text/plain": [
       "<Figure size 216x216 with 1 Axes>"
      ]
     },
     "metadata": {
      "needs_background": "light"
     },
     "output_type": "display_data"
    },
    {
     "name": "stdout",
     "output_type": "stream",
     "text": [
      "=====================\n",
      "              precision    recall  f1-score   support\n",
      "\n",
      "           0       1.00      0.98      0.99     15625\n",
      "           1       0.57      0.87      0.69       375\n",
      "\n",
      "    accuracy                           0.98     16000\n",
      "   macro avg       0.78      0.93      0.84     16000\n",
      "weighted avg       0.99      0.98      0.98     16000\n",
      "\n",
      "=====================\n",
      "Accuracy upon the test data using Random Forest is 98.15 %\n"
     ]
    }
   ],
   "source": [
    "cnfmtx_4 = confusion_matrix(y_test, predictions_rf)\n",
    "plot_confusion_matrix(cnfmtx_4)\n",
    "print(\"=====================\")\n",
    "print(classification_report(y_test, predictions_rf))\n",
    "accuracy_4 = accuracy_score(y_test, predictions_rf)\n",
    "print(\"=====================\")\n",
    "print(f'Accuracy upon the test data using Random Forest is {100*accuracy_4:.2f} %')"
   ]
  },
  {
   "cell_type": "markdown",
   "metadata": {},
   "source": [
    "## Hyperparameter tuning"
   ]
  },
  {
   "cell_type": "markdown",
   "metadata": {},
   "source": [
    "Here, we are interested in getting a higher recall (this is to reduce false negatives, as the cost is x50 higher than predicting a positive case when it is not).\n",
    "\n",
    "Random Forest algorithm seems to perform better than the others for this purpose. kNN is a good option too. It's got the second best recall rate and its training time is relatively fast. SVC is slow for that task. Logistic Regression can also be a good option."
   ]
  },
  {
   "cell_type": "code",
   "execution_count": 62,
   "metadata": {},
   "outputs": [],
   "source": [
    "model_params = {\n",
    "    \n",
    "    'Random Forest': {\n",
    "        'model': RandomForestClassifier(),\n",
    "        'params': {\n",
    "            'n_estimators': [100, 200, 500]\n",
    "        }\n",
    "    },\n",
    "    \n",
    "    'k-Nearest Neighbors': {\n",
    "        'model': KNeighborsClassifier(),\n",
    "        'params': {\n",
    "            'n_neighbors': [5, 7, 10]\n",
    "        }\n",
    "    },\n",
    "    \n",
    "    'Logistic Regression': {\n",
    "        'model': LogisticRegression(),\n",
    "        'params': {\n",
    "            'C': [0.1, 1, 10]\n",
    "        }\n",
    "    }\n",
    "}"
   ]
  },
  {
   "cell_type": "code",
   "execution_count": 63,
   "metadata": {},
   "outputs": [
    {
     "name": "stderr",
     "output_type": "stream",
     "text": [
      "\r",
      "  0%|          | 0/3 [00:00<?, ?it/s]"
     ]
    },
    {
     "name": "stdout",
     "output_type": "stream",
     "text": [
      "0    24229\n",
      "1    11171\n",
      "Name: class, dtype: int64\n"
     ]
    },
    {
     "name": "stderr",
     "output_type": "stream",
     "text": [
      " 67%|██████▋   | 2/3 [12:32<06:45, 405.11s/it]/Users/juancarlos/opt/anaconda3/lib/python3.8/site-packages/sklearn/linear_model/_logistic.py:762: ConvergenceWarning: lbfgs failed to converge (status=1):\n",
      "STOP: TOTAL NO. of ITERATIONS REACHED LIMIT.\n",
      "\n",
      "Increase the number of iterations (max_iter) or scale the data as shown in:\n",
      "    https://scikit-learn.org/stable/modules/preprocessing.html\n",
      "Please also refer to the documentation for alternative solver options:\n",
      "    https://scikit-learn.org/stable/modules/linear_model.html#logistic-regression\n",
      "  n_iter_i = _check_optimize_result(\n",
      "/Users/juancarlos/opt/anaconda3/lib/python3.8/site-packages/sklearn/linear_model/_logistic.py:762: ConvergenceWarning: lbfgs failed to converge (status=1):\n",
      "STOP: TOTAL NO. of ITERATIONS REACHED LIMIT.\n",
      "\n",
      "Increase the number of iterations (max_iter) or scale the data as shown in:\n",
      "    https://scikit-learn.org/stable/modules/preprocessing.html\n",
      "Please also refer to the documentation for alternative solver options:\n",
      "    https://scikit-learn.org/stable/modules/linear_model.html#logistic-regression\n",
      "  n_iter_i = _check_optimize_result(\n",
      "/Users/juancarlos/opt/anaconda3/lib/python3.8/site-packages/sklearn/linear_model/_logistic.py:762: ConvergenceWarning: lbfgs failed to converge (status=1):\n",
      "STOP: TOTAL NO. of ITERATIONS REACHED LIMIT.\n",
      "\n",
      "Increase the number of iterations (max_iter) or scale the data as shown in:\n",
      "    https://scikit-learn.org/stable/modules/preprocessing.html\n",
      "Please also refer to the documentation for alternative solver options:\n",
      "    https://scikit-learn.org/stable/modules/linear_model.html#logistic-regression\n",
      "  n_iter_i = _check_optimize_result(\n",
      "/Users/juancarlos/opt/anaconda3/lib/python3.8/site-packages/sklearn/linear_model/_logistic.py:762: ConvergenceWarning: lbfgs failed to converge (status=1):\n",
      "STOP: TOTAL NO. of ITERATIONS REACHED LIMIT.\n",
      "\n",
      "Increase the number of iterations (max_iter) or scale the data as shown in:\n",
      "    https://scikit-learn.org/stable/modules/preprocessing.html\n",
      "Please also refer to the documentation for alternative solver options:\n",
      "    https://scikit-learn.org/stable/modules/linear_model.html#logistic-regression\n",
      "  n_iter_i = _check_optimize_result(\n",
      "/Users/juancarlos/opt/anaconda3/lib/python3.8/site-packages/sklearn/linear_model/_logistic.py:762: ConvergenceWarning: lbfgs failed to converge (status=1):\n",
      "STOP: TOTAL NO. of ITERATIONS REACHED LIMIT.\n",
      "\n",
      "Increase the number of iterations (max_iter) or scale the data as shown in:\n",
      "    https://scikit-learn.org/stable/modules/preprocessing.html\n",
      "Please also refer to the documentation for alternative solver options:\n",
      "    https://scikit-learn.org/stable/modules/linear_model.html#logistic-regression\n",
      "  n_iter_i = _check_optimize_result(\n",
      "/Users/juancarlos/opt/anaconda3/lib/python3.8/site-packages/sklearn/linear_model/_logistic.py:762: ConvergenceWarning: lbfgs failed to converge (status=1):\n",
      "STOP: TOTAL NO. of ITERATIONS REACHED LIMIT.\n",
      "\n",
      "Increase the number of iterations (max_iter) or scale the data as shown in:\n",
      "    https://scikit-learn.org/stable/modules/preprocessing.html\n",
      "Please also refer to the documentation for alternative solver options:\n",
      "    https://scikit-learn.org/stable/modules/linear_model.html#logistic-regression\n",
      "  n_iter_i = _check_optimize_result(\n",
      "/Users/juancarlos/opt/anaconda3/lib/python3.8/site-packages/sklearn/linear_model/_logistic.py:762: ConvergenceWarning: lbfgs failed to converge (status=1):\n",
      "STOP: TOTAL NO. of ITERATIONS REACHED LIMIT.\n",
      "\n",
      "Increase the number of iterations (max_iter) or scale the data as shown in:\n",
      "    https://scikit-learn.org/stable/modules/preprocessing.html\n",
      "Please also refer to the documentation for alternative solver options:\n",
      "    https://scikit-learn.org/stable/modules/linear_model.html#logistic-regression\n",
      "  n_iter_i = _check_optimize_result(\n",
      "/Users/juancarlos/opt/anaconda3/lib/python3.8/site-packages/sklearn/linear_model/_logistic.py:762: ConvergenceWarning: lbfgs failed to converge (status=1):\n",
      "STOP: TOTAL NO. of ITERATIONS REACHED LIMIT.\n",
      "\n",
      "Increase the number of iterations (max_iter) or scale the data as shown in:\n",
      "    https://scikit-learn.org/stable/modules/preprocessing.html\n",
      "Please also refer to the documentation for alternative solver options:\n",
      "    https://scikit-learn.org/stable/modules/linear_model.html#logistic-regression\n",
      "  n_iter_i = _check_optimize_result(\n",
      "/Users/juancarlos/opt/anaconda3/lib/python3.8/site-packages/sklearn/linear_model/_logistic.py:762: ConvergenceWarning: lbfgs failed to converge (status=1):\n",
      "STOP: TOTAL NO. of ITERATIONS REACHED LIMIT.\n",
      "\n",
      "Increase the number of iterations (max_iter) or scale the data as shown in:\n",
      "    https://scikit-learn.org/stable/modules/preprocessing.html\n",
      "Please also refer to the documentation for alternative solver options:\n",
      "    https://scikit-learn.org/stable/modules/linear_model.html#logistic-regression\n",
      "  n_iter_i = _check_optimize_result(\n",
      "/Users/juancarlos/opt/anaconda3/lib/python3.8/site-packages/sklearn/linear_model/_logistic.py:762: ConvergenceWarning: lbfgs failed to converge (status=1):\n",
      "STOP: TOTAL NO. of ITERATIONS REACHED LIMIT.\n",
      "\n",
      "Increase the number of iterations (max_iter) or scale the data as shown in:\n",
      "    https://scikit-learn.org/stable/modules/preprocessing.html\n",
      "Please also refer to the documentation for alternative solver options:\n",
      "    https://scikit-learn.org/stable/modules/linear_model.html#logistic-regression\n",
      "  n_iter_i = _check_optimize_result(\n",
      "100%|██████████| 3/3 [12:35<00:00, 251.97s/it]\n"
     ]
    }
   ],
   "source": [
    "# Given that running Grid Search using these algorithms, parameters and the dataset is not computationally efficient,\n",
    "# We'll run it upon a subset of the data.\n",
    "y_train_res_subset = y_train_res[int(np.quantile(y_train_res.index, 0.3)):int(np.quantile(y_train_res.index, 0.6))]\n",
    "X_train_res_subset = X_train_res[int(np.quantile(X_train_res.index, 0.3)):int(np.quantile(X_train_res.index, 0.6))]\n",
    "\n",
    "print(y_train_res_subset.value_counts())\n",
    "\n",
    "scores = []\n",
    "\n",
    "for algo_name, algoparam in tqdm(model_params.items()):\n",
    "    gs_clf = GridSearchCV(algoparam['model'], algoparam['params'], scoring='recall', cv=3)\n",
    "    gs_clf.fit(X_train_res_subset, y_train_res_subset)\n",
    "    scores.append({\n",
    "        'Algorithm': algo_name,\n",
    "        'Best score': gs_clf.best_score_,\n",
    "        'Best params': gs_clf.best_params_\n",
    "    })"
   ]
  },
  {
   "cell_type": "code",
   "execution_count": 64,
   "metadata": {},
   "outputs": [
    {
     "data": {
      "text/html": [
       "<div>\n",
       "<style scoped>\n",
       "    .dataframe tbody tr th:only-of-type {\n",
       "        vertical-align: middle;\n",
       "    }\n",
       "\n",
       "    .dataframe tbody tr th {\n",
       "        vertical-align: top;\n",
       "    }\n",
       "\n",
       "    .dataframe thead th {\n",
       "        text-align: right;\n",
       "    }\n",
       "</style>\n",
       "<table border=\"1\" class=\"dataframe\">\n",
       "  <thead>\n",
       "    <tr style=\"text-align: right;\">\n",
       "      <th></th>\n",
       "      <th>Algorithm</th>\n",
       "      <th>Best score</th>\n",
       "      <th>Best params</th>\n",
       "    </tr>\n",
       "  </thead>\n",
       "  <tbody>\n",
       "    <tr>\n",
       "      <th>0</th>\n",
       "      <td>Random Forest</td>\n",
       "      <td>0.990690</td>\n",
       "      <td>{'n_estimators': 500}</td>\n",
       "    </tr>\n",
       "    <tr>\n",
       "      <th>1</th>\n",
       "      <td>k-Nearest Neighbors</td>\n",
       "      <td>0.994987</td>\n",
       "      <td>{'n_neighbors': 5}</td>\n",
       "    </tr>\n",
       "    <tr>\n",
       "      <th>2</th>\n",
       "      <td>Logistic Regression</td>\n",
       "      <td>0.926685</td>\n",
       "      <td>{'C': 10}</td>\n",
       "    </tr>\n",
       "  </tbody>\n",
       "</table>\n",
       "</div>"
      ],
      "text/plain": [
       "             Algorithm  Best score            Best params\n",
       "0        Random Forest    0.990690  {'n_estimators': 500}\n",
       "1  k-Nearest Neighbors    0.994987     {'n_neighbors': 5}\n",
       "2  Logistic Regression    0.926685              {'C': 10}"
      ]
     },
     "execution_count": 64,
     "metadata": {},
     "output_type": "execute_result"
    }
   ],
   "source": [
    "scores_df = pd.DataFrame(scores, columns=['Algorithm', 'Best score', 'Best params'])\n",
    "scores_df"
   ]
  },
  {
   "cell_type": "code",
   "execution_count": 65,
   "metadata": {},
   "outputs": [],
   "source": [
    "model_params = {\n",
    "    \n",
    "    'Random Forest': {\n",
    "        'model': RandomForestClassifier(),\n",
    "        'params': {\n",
    "            'n_estimators': [100, 200, 500]\n",
    "        }\n",
    "    },\n",
    "    \n",
    "    'k-Nearest Neighbors': {\n",
    "        'model': KNeighborsClassifier(),\n",
    "        'params': {\n",
    "            'n_neighbors': [5, 7, 10]\n",
    "        }\n",
    "    }\n",
    "}"
   ]
  },
  {
   "cell_type": "code",
   "execution_count": 67,
   "metadata": {},
   "outputs": [
    {
     "name": "stderr",
     "output_type": "stream",
     "text": [
      "100%|██████████| 2/2 [1:22:30<00:00, 2475.19s/it]\n"
     ]
    }
   ],
   "source": [
    "# Upon the whole dataset\n",
    "scores = []\n",
    "\n",
    "for algo_name, algoparam in tqdm(model_params.items()):\n",
    "    gs_clf = GridSearchCV(algoparam['model'], algoparam['params'], scoring='recall', cv=3)\n",
    "    gs_clf.fit(X_train_res, y_train_res)\n",
    "    scores.append({\n",
    "        'Algorithm': algo_name,\n",
    "        'Best score': gs_clf.best_score_,\n",
    "        'Best params': gs_clf.best_params_\n",
    "    })"
   ]
  },
  {
   "cell_type": "code",
   "execution_count": 68,
   "metadata": {},
   "outputs": [
    {
     "data": {
      "text/html": [
       "<div>\n",
       "<style scoped>\n",
       "    .dataframe tbody tr th:only-of-type {\n",
       "        vertical-align: middle;\n",
       "    }\n",
       "\n",
       "    .dataframe tbody tr th {\n",
       "        vertical-align: top;\n",
       "    }\n",
       "\n",
       "    .dataframe thead th {\n",
       "        text-align: right;\n",
       "    }\n",
       "</style>\n",
       "<table border=\"1\" class=\"dataframe\">\n",
       "  <thead>\n",
       "    <tr style=\"text-align: right;\">\n",
       "      <th></th>\n",
       "      <th>Algorithm</th>\n",
       "      <th>Best score</th>\n",
       "      <th>Best params</th>\n",
       "    </tr>\n",
       "  </thead>\n",
       "  <tbody>\n",
       "    <tr>\n",
       "      <th>0</th>\n",
       "      <td>Random Forest</td>\n",
       "      <td>0.999288</td>\n",
       "      <td>{'n_estimators': 500}</td>\n",
       "    </tr>\n",
       "    <tr>\n",
       "      <th>1</th>\n",
       "      <td>k-Nearest Neighbors</td>\n",
       "      <td>0.999373</td>\n",
       "      <td>{'n_neighbors': 5}</td>\n",
       "    </tr>\n",
       "  </tbody>\n",
       "</table>\n",
       "</div>"
      ],
      "text/plain": [
       "             Algorithm  Best score            Best params\n",
       "0        Random Forest    0.999288  {'n_estimators': 500}\n",
       "1  k-Nearest Neighbors    0.999373     {'n_neighbors': 5}"
      ]
     },
     "execution_count": 68,
     "metadata": {},
     "output_type": "execute_result"
    }
   ],
   "source": [
    "scores_df = pd.DataFrame(scores, columns=['Algorithm', 'Best score', 'Best params'])\n",
    "scores_df"
   ]
  },
  {
   "cell_type": "code",
   "execution_count": 71,
   "metadata": {},
   "outputs": [
    {
     "name": "stdout",
     "output_type": "stream",
     "text": [
      "              precision    recall  f1-score   support\n",
      "\n",
      "           0       1.00      0.98      0.99     15625\n",
      "           1       0.58      0.87      0.70       375\n",
      "\n",
      "    accuracy                           0.98     16000\n",
      "   macro avg       0.79      0.93      0.84     16000\n",
      "weighted avg       0.99      0.98      0.98     16000\n",
      "\n"
     ]
    }
   ],
   "source": [
    "bestRandomForest = RandomForestClassifier(n_estimators=500)\n",
    "bestRandomForest.fit(X_train_res, y_train_res)\n",
    "print(classification_report(y_test, bestRandomForest.predict(X_test)))"
   ]
  },
  {
   "cell_type": "code",
   "execution_count": 74,
   "metadata": {},
   "outputs": [
    {
     "name": "stdout",
     "output_type": "stream",
     "text": [
      "Pickling completed.\n"
     ]
    }
   ],
   "source": [
    "bestKNN = gs_clf.best_estimator_.fit(X_train_res, y_train_res)\n",
    "with open('bestKNN_trained.pkl', 'wb') as f:\n",
    "    pickle.dump(bestKNN, f)\n",
    "    print('Pickling completed.')"
   ]
  },
  {
   "cell_type": "markdown",
   "metadata": {},
   "source": [
    "# Model understanding "
   ]
  },
  {
   "cell_type": "markdown",
   "metadata": {},
   "source": [
    "A k-Nearest Neighbors algorithm that models our data with parameter n_neighbors = 5 has been found to perform well towards our goal (mainly, get a high recall) and it's able to train fast."
   ]
  },
  {
   "cell_type": "code",
   "execution_count": 86,
   "metadata": {},
   "outputs": [
    {
     "data": {
      "text/plain": [
       "0    3898\n",
       "1     102\n",
       "Name: class, dtype: int64"
      ]
     },
     "execution_count": 86,
     "metadata": {},
     "output_type": "execute_result"
    }
   ],
   "source": [
    "y_test[:4000].value_counts()"
   ]
  },
  {
   "cell_type": "code",
   "execution_count": 87,
   "metadata": {},
   "outputs": [
    {
     "name": "stderr",
     "output_type": "stream",
     "text": [
      "/Users/juancarlos/opt/anaconda3/lib/python3.8/site-packages/joblib/externals/loky/process_executor.py:688: UserWarning: A worker stopped while some jobs were given to the executor. This can be caused by a too short worker timeout or by a memory leak.\n",
      "  warnings.warn(\n"
     ]
    }
   ],
   "source": [
    "perm = permutation_importance(bestKNN, X_test[:4000], y_test[:4000], scoring='recall', n_repeats=2, n_jobs=-1)\n",
    "importance = perm.importances_mean"
   ]
  },
  {
   "cell_type": "code",
   "execution_count": 88,
   "metadata": {
    "scrolled": true
   },
   "outputs": [
    {
     "name": "stdout",
     "output_type": "stream",
     "text": [
      "Feature: 0, Score: -0.01961\n",
      "Feature: 1, Score: 0.00000\n",
      "Feature: 2, Score: 0.00000\n",
      "Feature: 3, Score: 0.00000\n",
      "Feature: 4, Score: 0.00000\n",
      "Feature: 5, Score: 0.00000\n",
      "Feature: 6, Score: 0.00000\n",
      "Feature: 7, Score: 0.00000\n",
      "Feature: 8, Score: 0.00980\n",
      "Feature: 9, Score: 0.00980\n",
      "Feature: 10, Score: 0.00000\n",
      "Feature: 11, Score: 0.00000\n",
      "Feature: 12, Score: 0.00980\n",
      "Feature: 13, Score: 0.00000\n",
      "Feature: 14, Score: 0.00000\n",
      "Feature: 15, Score: 0.00000\n",
      "Feature: 16, Score: -0.00980\n",
      "Feature: 17, Score: 0.00000\n",
      "Feature: 18, Score: 0.00000\n",
      "Feature: 19, Score: 0.00000\n",
      "Feature: 20, Score: 0.00000\n",
      "Feature: 21, Score: 0.00000\n",
      "Feature: 22, Score: -0.00980\n",
      "Feature: 23, Score: -0.00980\n",
      "Feature: 24, Score: -0.00980\n",
      "Feature: 25, Score: 0.00980\n",
      "Feature: 26, Score: 0.00000\n",
      "Feature: 27, Score: 0.00000\n",
      "Feature: 28, Score: 0.00000\n",
      "Feature: 29, Score: 0.00000\n",
      "Feature: 30, Score: 0.00000\n",
      "Feature: 31, Score: 0.00000\n",
      "Feature: 32, Score: 0.00000\n",
      "Feature: 33, Score: 0.00000\n",
      "Feature: 34, Score: 0.00000\n",
      "Feature: 35, Score: 0.00000\n",
      "Feature: 36, Score: 0.00000\n",
      "Feature: 37, Score: 0.00000\n",
      "Feature: 38, Score: 0.00980\n",
      "Feature: 39, Score: 0.00000\n",
      "Feature: 40, Score: 0.00980\n",
      "Feature: 41, Score: 0.00000\n",
      "Feature: 42, Score: 0.00000\n",
      "Feature: 43, Score: 0.00000\n",
      "Feature: 44, Score: 0.00000\n",
      "Feature: 45, Score: 0.00000\n",
      "Feature: 46, Score: 0.00000\n",
      "Feature: 47, Score: 0.00000\n",
      "Feature: 48, Score: 0.00000\n",
      "Feature: 49, Score: 0.00980\n",
      "Feature: 50, Score: 0.00000\n",
      "Feature: 51, Score: 0.00000\n",
      "Feature: 52, Score: 0.00000\n",
      "Feature: 53, Score: 0.00000\n",
      "Feature: 54, Score: -0.00980\n",
      "Feature: 55, Score: 0.00000\n",
      "Feature: 56, Score: 0.00000\n",
      "Feature: 57, Score: 0.00000\n",
      "Feature: 58, Score: -0.00980\n",
      "Feature: 59, Score: 0.00000\n",
      "Feature: 60, Score: 0.00000\n",
      "Feature: 61, Score: -0.00980\n",
      "Feature: 62, Score: 0.00000\n",
      "Feature: 63, Score: 0.00980\n",
      "Feature: 64, Score: 0.00000\n",
      "Feature: 65, Score: -0.00980\n",
      "Feature: 66, Score: 0.00980\n",
      "Feature: 67, Score: -0.00980\n",
      "Feature: 68, Score: 0.00490\n",
      "Feature: 69, Score: -0.00980\n",
      "Feature: 70, Score: 0.00980\n",
      "Feature: 71, Score: -0.00490\n",
      "Feature: 72, Score: 0.00000\n",
      "Feature: 73, Score: -0.00490\n",
      "Feature: 74, Score: -0.00980\n",
      "Feature: 75, Score: -0.00980\n",
      "Feature: 76, Score: 0.00000\n",
      "Feature: 77, Score: -0.00490\n",
      "Feature: 78, Score: -0.00980\n",
      "Feature: 79, Score: -0.01471\n",
      "Feature: 80, Score: -0.01961\n",
      "Feature: 81, Score: 0.00000\n",
      "Feature: 82, Score: 0.00000\n",
      "Feature: 83, Score: -0.00980\n",
      "Feature: 84, Score: 0.00000\n",
      "Feature: 85, Score: -0.00980\n",
      "Feature: 86, Score: 0.00000\n",
      "Feature: 87, Score: 0.00000\n",
      "Feature: 88, Score: -0.00980\n",
      "Feature: 89, Score: 0.00000\n",
      "Feature: 90, Score: -0.00980\n",
      "Feature: 91, Score: 0.00000\n",
      "Feature: 92, Score: 0.00000\n",
      "Feature: 93, Score: 0.00000\n",
      "Feature: 94, Score: -0.00980\n",
      "Feature: 95, Score: 0.00000\n",
      "Feature: 96, Score: 0.00000\n",
      "Feature: 97, Score: 0.00000\n",
      "Feature: 98, Score: 0.00000\n",
      "Feature: 99, Score: 0.00000\n",
      "Feature: 100, Score: 0.00980\n",
      "Feature: 101, Score: 0.00000\n",
      "Feature: 102, Score: -0.00490\n",
      "Feature: 103, Score: 0.00000\n",
      "Feature: 104, Score: 0.00000\n",
      "Feature: 105, Score: 0.00000\n",
      "Feature: 106, Score: 0.00000\n",
      "Feature: 107, Score: 0.00000\n",
      "Feature: 108, Score: 0.00000\n",
      "Feature: 109, Score: 0.00000\n",
      "Feature: 110, Score: 0.00000\n",
      "Feature: 111, Score: 0.00000\n",
      "Feature: 112, Score: 0.00490\n",
      "Feature: 113, Score: 0.00000\n",
      "Feature: 114, Score: 0.00000\n",
      "Feature: 115, Score: 0.00000\n",
      "Feature: 116, Score: 0.00000\n",
      "Feature: 117, Score: 0.00000\n",
      "Feature: 118, Score: 0.00000\n",
      "Feature: 119, Score: -0.00490\n",
      "Feature: 120, Score: 0.00000\n",
      "Feature: 121, Score: 0.00000\n",
      "Feature: 122, Score: 0.00000\n",
      "Feature: 123, Score: 0.00000\n",
      "Feature: 124, Score: 0.00000\n",
      "Feature: 125, Score: 0.00000\n",
      "Feature: 126, Score: 0.00980\n",
      "Feature: 127, Score: 0.00000\n",
      "Feature: 128, Score: 0.00000\n",
      "Feature: 129, Score: 0.00000\n",
      "Feature: 130, Score: 0.00000\n",
      "Feature: 131, Score: 0.00000\n",
      "Feature: 132, Score: -0.01961\n",
      "Feature: 133, Score: 0.01961\n",
      "Feature: 134, Score: 0.00000\n",
      "Feature: 135, Score: 0.00000\n",
      "Feature: 136, Score: 0.00000\n",
      "Feature: 137, Score: 0.00000\n",
      "Feature: 138, Score: 0.00000\n",
      "Feature: 139, Score: 0.00000\n",
      "Feature: 140, Score: 0.00000\n",
      "Feature: 141, Score: 0.00000\n",
      "Feature: 142, Score: 0.00000\n",
      "Feature: 143, Score: 0.00000\n",
      "Feature: 144, Score: 0.00980\n",
      "Feature: 145, Score: 0.00980\n",
      "Feature: 146, Score: 0.00000\n",
      "Feature: 147, Score: 0.01961\n",
      "Feature: 148, Score: 0.01961\n",
      "Feature: 149, Score: -0.00980\n",
      "Feature: 150, Score: 0.00000\n",
      "Feature: 151, Score: 0.00000\n",
      "Feature: 152, Score: 0.00000\n",
      "Feature: 153, Score: 0.00000\n",
      "Feature: 154, Score: 0.00000\n",
      "Feature: 155, Score: 0.00000\n",
      "Feature: 156, Score: 0.00980\n",
      "Feature: 157, Score: 0.00980\n",
      "Feature: 158, Score: 0.00000\n",
      "Feature: 159, Score: 0.00000\n",
      "Feature: 160, Score: 0.00000\n",
      "Feature: 161, Score: 0.00000\n",
      "Feature: 162, Score: -0.00980\n",
      "Feature: 163, Score: 0.00000\n",
      "Feature: 164, Score: 0.00000\n",
      "Feature: 165, Score: -0.01961\n",
      "Feature: 166, Score: 0.00000\n",
      "Feature: 167, Score: 0.00000\n",
      "Feature: 168, Score: 0.00000\n",
      "Feature: 169, Score: 0.00000\n"
     ]
    }
   ],
   "source": [
    "# summarize feature importance\n",
    "for i,v in enumerate(importance):\n",
    "\tprint('Feature: %0d, Score: %.5f' % (i,v))"
   ]
  },
  {
   "cell_type": "code",
   "execution_count": 90,
   "metadata": {},
   "outputs": [
    {
     "data": {
      "image/png": "[encoded data removed]",
      "text/plain": [
       "<Figure size 432x288 with 1 Axes>"
      ]
     },
     "metadata": {
      "needs_background": "light"
     },
     "output_type": "display_data"
    }
   ],
   "source": [
    "# plot feature importance\n",
    "plt.bar([x for x in range(len(importance))], importance)\n",
    "plt.show()"
   ]
  },
  {
   "cell_type": "code",
   "execution_count": 91,
   "metadata": {},
   "outputs": [
    {
     "data": {
      "text/plain": [
       "numpy.ndarray"
      ]
     },
     "execution_count": 91,
     "metadata": {},
     "output_type": "execute_result"
    }
   ],
   "source": [
    "type(importance)"
   ]
  },
  {
   "cell_type": "code",
   "execution_count": 92,
   "metadata": {},
   "outputs": [
    {
     "data": {
      "text/plain": [
       "array([-0.01960784,  0.        ,  0.        ,  0.        ,  0.        ,\n",
       "        0.        ,  0.        ,  0.        ,  0.00980392,  0.00980392,\n",
       "        0.        ,  0.        ,  0.00980392,  0.        ,  0.        ,\n",
       "        0.        , -0.00980392,  0.        ,  0.        ,  0.        ,\n",
       "        0.        ,  0.        , -0.00980392, -0.00980392, -0.00980392,\n",
       "        0.00980392,  0.        ,  0.        ,  0.        ,  0.        ,\n",
       "        0.        ,  0.        ,  0.        ,  0.        ,  0.        ,\n",
       "        0.        ,  0.        ,  0.        ,  0.00980392,  0.        ,\n",
       "        0.00980392,  0.        ,  0.        ,  0.        ,  0.        ,\n",
       "        0.        ,  0.        ,  0.        ,  0.        ,  0.00980392,\n",
       "        0.        ,  0.        ,  0.        ,  0.        , -0.00980392,\n",
       "        0.        ,  0.        ,  0.        , -0.00980392,  0.        ,\n",
       "        0.        , -0.00980392,  0.        ,  0.00980392,  0.        ,\n",
       "       -0.00980392,  0.00980392, -0.00980392,  0.00490196, -0.00980392,\n",
       "        0.00980392, -0.00490196,  0.        , -0.00490196, -0.00980392,\n",
       "       -0.00980392,  0.        , -0.00490196, -0.00980392, -0.01470588,\n",
       "       -0.01960784,  0.        ,  0.        , -0.00980392,  0.        ,\n",
       "       -0.00980392,  0.        ,  0.        , -0.00980392,  0.        ,\n",
       "       -0.00980392,  0.        ,  0.        ,  0.        , -0.00980392,\n",
       "        0.        ,  0.        ,  0.        ,  0.        ,  0.        ,\n",
       "        0.00980392,  0.        , -0.00490196,  0.        ,  0.        ,\n",
       "        0.        ,  0.        ,  0.        ,  0.        ,  0.        ,\n",
       "        0.        ,  0.        ,  0.00490196,  0.        ,  0.        ,\n",
       "        0.        ,  0.        ,  0.        ,  0.        , -0.00490196,\n",
       "        0.        ,  0.        ,  0.        ,  0.        ,  0.        ,\n",
       "        0.        ,  0.00980392,  0.        ,  0.        ,  0.        ,\n",
       "        0.        ,  0.        , -0.01960784,  0.01960784,  0.        ,\n",
       "        0.        ,  0.        ,  0.        ,  0.        ,  0.        ,\n",
       "        0.        ,  0.        ,  0.        ,  0.        ,  0.00980392,\n",
       "        0.00980392,  0.        ,  0.01960784,  0.01960784, -0.00980392,\n",
       "        0.        ,  0.        ,  0.        ,  0.        ,  0.        ,\n",
       "        0.        ,  0.00980392,  0.00980392,  0.        ,  0.        ,\n",
       "        0.        ,  0.        , -0.00980392,  0.        ,  0.        ,\n",
       "       -0.01960784,  0.        ,  0.        ,  0.        ,  0.        ])"
      ]
     },
     "execution_count": 92,
     "metadata": {},
     "output_type": "execute_result"
    }
   ],
   "source": [
    "importance"
   ]
  },
  {
   "cell_type": "code",
   "execution_count": 96,
   "metadata": {
    "scrolled": false
   },
   "outputs": [
    {
     "data": {
      "text/plain": [
       "0      0.019608\n",
       "1      0.019608\n",
       "2      0.019608\n",
       "3      0.009804\n",
       "4      0.009804\n",
       "         ...   \n",
       "165   -0.014706\n",
       "166   -0.019608\n",
       "167   -0.019608\n",
       "168   -0.019608\n",
       "169   -0.019608\n",
       "Length: 170, dtype: float64"
      ]
     },
     "execution_count": 96,
     "metadata": {},
     "output_type": "execute_result"
    }
   ],
   "source": [
    "importance_sorted = np.sort(importance)\n",
    "importance_sorted = pd.Series(importance_sorted[::-1])\n",
    "importance_sorted"
   ]
  },
  {
   "cell_type": "code",
   "execution_count": null,
   "metadata": {},
   "outputs": [],
   "source": [
    "for i, v in enumerate(np.sort(importance)):\n",
    "\tprint('Feature: %0d, Score: %.5f' % (i,v))"
   ]
  }
 ],
 "metadata": {
  "kernelspec": {
   "display_name": "Python 3",
   "language": "python",
   "name": "python3"
  },
  "language_info": {
   "codemirror_mode": {
    "name": "ipython",
    "version": 3
   },
   "file_extension": ".py",
   "mimetype": "text/x-python",
   "name": "python",
   "nbconvert_exporter": "python",
   "pygments_lexer": "ipython3",
   "version": "3.8.5"
  }
 },
 "nbformat": 4,
 "nbformat_minor": 4
}
